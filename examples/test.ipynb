{
 "cells": [
  {
   "cell_type": "code",
   "execution_count": 2,
   "id": "131b152a",
   "metadata": {},
   "outputs": [],
   "source": [
    "import gmab"
   ]
  },
  {
   "cell_type": "code",
   "execution_count": 1,
   "id": "e81d4de9",
   "metadata": {},
   "outputs": [],
   "source": [
    "def function(number: list):\n",
    "    return sum(\n",
    "        [\n",
    "            100 * (number[i + 1] - number[i] ** 2) ** 2 + (1 - number[i]) ** 2\n",
    "            for i in range(len(number) - 1)\n",
    "        ]\n",
    "    )\n"
   ]
  },
  {
   "cell_type": "code",
   "execution_count": 3,
   "id": "8649d1f1",
   "metadata": {},
   "outputs": [],
   "source": [
    "low = -100\n",
    "high = 100\n",
    "size = 10\n",
    "params = {\"number\": gmab.IntParam(low, high, size)}"
   ]
  },
  {
   "cell_type": "code",
   "execution_count": 12,
   "id": "4222136e",
   "metadata": {},
   "outputs": [
    {
     "name": "stderr",
     "output_type": "stream",
     "text": [
      "[2025-04-11 15:53:51,266] INFO     - gmab.study.study - completed\n"
     ]
    },
    {
     "name": "stdout",
     "output_type": "stream",
     "text": [
      "{'number': [0, -36, -48, -41, -13, 63, 24, -26, -13, 31]}\n"
     ]
    }
   ],
   "source": [
    "budget = 100\n",
    "seed = 42 + 1\n",
    "study = gmab.Study(seed)\n",
    "study.optimize(function, params, budget)\n",
    "print(study.best_trial)"
   ]
  }
 ],
 "metadata": {
  "kernelspec": {
   "display_name": ".venv",
   "language": "python",
   "name": "python3"
  },
  "language_info": {
   "codemirror_mode": {
    "name": "ipython",
    "version": 3
   },
   "file_extension": ".py",
   "mimetype": "text/x-python",
   "name": "python",
   "nbconvert_exporter": "python",
   "pygments_lexer": "ipython3",
   "version": "3.13.3"
  }
 },
 "nbformat": 4,
 "nbformat_minor": 5
}
