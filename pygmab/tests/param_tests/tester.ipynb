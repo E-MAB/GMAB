{
 "cells": [
  {
   "cell_type": "code",
   "execution_count": 1,
   "metadata": {},
   "outputs": [
    {
     "data": {
      "text/plain": [
       "FloatParam(low=0.0, high=1.0, size=1,step=0.33, log=False)"
      ]
     },
     "execution_count": 1,
     "metadata": {},
     "output_type": "execute_result"
    }
   ],
   "source": [
    "from gmab.params import FloatParam\n",
    "\n",
    "param = FloatParam(0, 1, step=0.33)\n",
    "param"
   ]
  },
  {
   "cell_type": "code",
   "execution_count": 2,
   "metadata": {},
   "outputs": [
    {
     "data": {
      "text/plain": [
       "[(0, 3)]"
      ]
     },
     "execution_count": 2,
     "metadata": {},
     "output_type": "execute_result"
    }
   ],
   "source": [
    "param.bounds"
   ]
  },
  {
   "cell_type": "code",
   "execution_count": 3,
   "metadata": {},
   "outputs": [
    {
     "data": {
      "text/plain": [
       "[0.0, 0.33, 0.66, 0.99]"
      ]
     },
     "execution_count": 3,
     "metadata": {},
     "output_type": "execute_result"
    }
   ],
   "source": [
    "values = []\n",
    "for x in range(4):\n",
    "    values.append(param.map_to_value([x]))\n",
    "values"
   ]
  },
  {
   "cell_type": "code",
   "execution_count": 4,
   "metadata": {},
   "outputs": [
    {
     "data": {
      "text/plain": [
       "FloatParam(low=1.0, high=2.0, size=1,step=0.1, log=True)"
      ]
     },
     "execution_count": 4,
     "metadata": {},
     "output_type": "execute_result"
    }
   ],
   "source": [
    "param = FloatParam(1, 2, step=0.1, log=True)\n",
    "param"
   ]
  },
  {
   "cell_type": "code",
   "execution_count": 5,
   "metadata": {},
   "outputs": [
    {
     "data": {
      "text/plain": [
       "[(0, 10)]"
      ]
     },
     "execution_count": 5,
     "metadata": {},
     "output_type": "execute_result"
    }
   ],
   "source": [
    "param.bounds"
   ]
  },
  {
   "cell_type": "code",
   "execution_count": 6,
   "metadata": {},
   "outputs": [
    {
     "data": {
      "text/plain": [
       "[1.0,\n",
       " 1.0717734625362931,\n",
       " 1.148698354997035,\n",
       " 1.2311444133449163,\n",
       " 1.3195079107728942,\n",
       " 1.414213562373095,\n",
       " 1.515716566510398,\n",
       " 1.624504792712471,\n",
       " 1.7411011265922482,\n",
       " 1.8660659830736148,\n",
       " 2.0]"
      ]
     },
     "execution_count": 6,
     "metadata": {},
     "output_type": "execute_result"
    }
   ],
   "source": [
    "values = []\n",
    "for x in range(11):\n",
    "    values.append(param.map_to_value([x]))\n",
    "values"
   ]
  },
  {
   "cell_type": "code",
   "execution_count": 7,
   "metadata": {},
   "outputs": [
    {
     "data": {
      "text/plain": [
       "FloatParam(low=1.0, high=10.0, size=1,step=0.5, log=True)"
      ]
     },
     "execution_count": 7,
     "metadata": {},
     "output_type": "execute_result"
    }
   ],
   "source": [
    "param = FloatParam(1, 10, step=0.5, log=True)\n",
    "param"
   ]
  },
  {
   "cell_type": "code",
   "execution_count": 8,
   "metadata": {},
   "outputs": [
    {
     "data": {
      "text/plain": [
       "[(0, 18)]"
      ]
     },
     "execution_count": 8,
     "metadata": {},
     "output_type": "execute_result"
    }
   ],
   "source": [
    "param.bounds"
   ]
  },
  {
   "cell_type": "code",
   "execution_count": 9,
   "metadata": {},
   "outputs": [
    {
     "data": {
      "text/plain": [
       "[1.0,\n",
       " 1.1364636663857248,\n",
       " 1.2915496650148839,\n",
       " 1.4677992676220697,\n",
       " 1.6681005372000588,\n",
       " 1.8957356524063758,\n",
       " 2.154434690031884,\n",
       " 2.4484367468222272,\n",
       " 2.7825594022071245,\n",
       " 3.1622776601683795,\n",
       " 3.593813663804627,\n",
       " 4.084238652674522,\n",
       " 4.641588833612779,\n",
       " 5.274997063702618,\n",
       " 5.99484250318941,\n",
       " 6.812920690579612,\n",
       " 7.742636826811271,\n",
       " 8.799225435691069,\n",
       " 10.000000000000002]"
      ]
     },
     "execution_count": 9,
     "metadata": {},
     "output_type": "execute_result"
    }
   ],
   "source": [
    "values = []\n",
    "for x in range(19):\n",
    "    values.append(param.map_to_value([x]))\n",
    "values"
   ]
  }
 ],
 "metadata": {
  "kernelspec": {
   "display_name": ".venv",
   "language": "python",
   "name": "python3"
  },
  "language_info": {
   "codemirror_mode": {
    "name": "ipython",
    "version": 3
   },
   "file_extension": ".py",
   "mimetype": "text/x-python",
   "name": "python",
   "nbconvert_exporter": "python",
   "pygments_lexer": "ipython3",
   "version": "3.13.2"
  }
 },
 "nbformat": 4,
 "nbformat_minor": 2
}
